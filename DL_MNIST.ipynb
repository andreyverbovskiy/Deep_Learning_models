{
  "cells": [
    {
      "cell_type": "markdown",
      "metadata": {
        "id": "4s65HxHUdfFy"
      },
      "source": [
        "# Deep Learning 3\n",
        "\n"
      ]
    },
    {
      "cell_type": "markdown",
      "metadata": {
        "id": "PQjBkHBrdfF0"
      },
      "source": [
        "## Part 1. Writing a custom dataset based on Fashion-MNIST"
      ]
    },
    {
      "cell_type": "markdown",
      "metadata": {
        "id": "ZEVbzeYPdfF0"
      },
      "source": [
        "### Part 1.1. Define a Dataset class"
      ]
    },
    {
      "cell_type": "code",
      "execution_count": 3,
      "metadata": {
        "colab": {
          "base_uri": "https://localhost:8080/"
        },
        "id": "ncgnUkykdfF0",
        "outputId": "02c4a04e-c0a2-47a0-e762-7f3c57fc1016"
      },
      "outputs": [
        {
          "output_type": "stream",
          "name": "stdout",
          "text": [
            "Collecting onedrivedownloader\n",
            "  Downloading onedrivedownloader-1.1.3-py3-none-any.whl (5.1 kB)\n",
            "Requirement already satisfied: requests in /usr/local/lib/python3.10/dist-packages (from onedrivedownloader) (2.31.0)\n",
            "Requirement already satisfied: tqdm in /usr/local/lib/python3.10/dist-packages (from onedrivedownloader) (4.66.2)\n",
            "Requirement already satisfied: charset-normalizer<4,>=2 in /usr/local/lib/python3.10/dist-packages (from requests->onedrivedownloader) (3.3.2)\n",
            "Requirement already satisfied: idna<4,>=2.5 in /usr/local/lib/python3.10/dist-packages (from requests->onedrivedownloader) (3.6)\n",
            "Requirement already satisfied: urllib3<3,>=1.21.1 in /usr/local/lib/python3.10/dist-packages (from requests->onedrivedownloader) (2.0.7)\n",
            "Requirement already satisfied: certifi>=2017.4.17 in /usr/local/lib/python3.10/dist-packages (from requests->onedrivedownloader) (2024.2.2)\n",
            "Installing collected packages: onedrivedownloader\n",
            "Successfully installed onedrivedownloader-1.1.3\n"
          ]
        }
      ],
      "source": [
        "!pip install onedrivedownloader"
      ]
    },
    {
      "cell_type": "code",
      "execution_count": 4,
      "metadata": {
        "id": "foCv2ZJYdfF1",
        "colab": {
          "base_uri": "https://localhost:8080/"
        },
        "outputId": "56efa4c0-43ba-4ecc-d5a2-6e18353918a3"
      },
      "outputs": [
        {
          "output_type": "stream",
          "name": "stdout",
          "text": [
            "Downloading dataset\n"
          ]
        },
        {
          "output_type": "stream",
          "name": "stderr",
          "text": [
            "100%|██████████| 30.6M/30.6M [00:03<00:00, 9.45MiB/s]\n"
          ]
        },
        {
          "output_type": "stream",
          "name": "stdout",
          "text": [
            "Unzipping file...\n"
          ]
        },
        {
          "output_type": "stream",
          "name": "stderr",
          "text": [
            "Extracting files: 100%|██████████| 4/4 [00:00<00:00,  5.76it/s]\n"
          ]
        }
      ],
      "source": [
        "from onedrivedownloader import download\n",
        "import os\n",
        "\n",
        "link = 'https://unioulu-my.sharepoint.com/:u:/g/personal/hliu22_univ_yo_oulu_fi/EatDho3877JMlYugij_sKBkBqRz5s8hvmC1DQb0LT-W-lA?e=vkdebU'\n",
        "\n",
        "if not os.path.exists('./data/fashion_mnist_npy'):\n",
        "    print('Downloading dataset')\n",
        "    download(link, filename=\"./fashion_mnist_npy_hw3.zip\", unzip=True, unzip_path='./data/fashion_mnist_npy')"
      ]
    },
    {
      "cell_type": "code",
      "execution_count": 5,
      "metadata": {
        "id": "dK6bKR3SdfF2"
      },
      "outputs": [],
      "source": [
        "# import necessary packages\n",
        "import os\n",
        "import torch\n",
        "import requests, zipfile, sys\n",
        "import numpy as np\n",
        "import matplotlib.pyplot as plt\n",
        "from torch.utils.data import Dataset, DataLoader\n",
        "import torchvision\n",
        "from PIL import Image\n",
        "import torch\n",
        "import torch.nn as nn\n",
        "import torch.nn.functional as F\n",
        "import torch.optim as optim\n",
        "from torchvision import transforms\n",
        "\n",
        "\n",
        "# fashion_MNIST dataset\n",
        "data_dir='./data/fashion_mnist_npy/'\n",
        "train_data = np.load(os.path.join(data_dir, 'train_data.npy'))\n",
        "test_data = np.load(os.path.join(data_dir, 'test_data.npy'))\n",
        "train_label = np.load(os.path.join(data_dir, 'train_labels.npy'))\n",
        "test_label = np.load(os.path.join(data_dir, 'test_labels.npy'))\n",
        "\n",
        "# select 5 classes\n",
        "selected_classes = [0, 1, 2, 3, 4]\n",
        "\n",
        "# choose the data from the selected 5 classes\n",
        "train_mask = np.isin(train_label, selected_classes)\n",
        "train_data = train_data[train_mask]\n",
        "train_label = train_label[train_mask]\n",
        "\n",
        "test_mask = np.isin(test_label, selected_classes)\n",
        "test_data = test_data[test_mask]\n",
        "test_label = test_label[test_mask]\n",
        "\n",
        "# split the training data to a new training data and validation data\n",
        "class_indices = [[] for i in range(5)]\n",
        "for i, v in enumerate(train_label):\n",
        "    class_indices[v].append(i)\n",
        "\n",
        "indices_all = np.random.permutation(len(class_indices[0]))\n",
        "# take the first 1000 indices of indices_all\n",
        "indices = indices_all[:1000]\n",
        "# take the rest of the indices of indices_all\n",
        "indices_rest = indices_all[1000:]\n",
        "\n",
        "valid_indices = []\n",
        "train_indices = []\n",
        "for i in range(5):\n",
        "    # build indices for validation set\n",
        "    valid_indices.extend(np.array(class_indices[i])[indices])\n",
        "    # build indices for training set\n",
        "    train_indices.extend(np.array(class_indices[i])[indices_rest])\n",
        "\n",
        "# write the custom dataset based on the dataset\n",
        "class FashionMnist(Dataset):\n",
        "    \"\"\"Fashion Mnist dataset\"\"\"\n",
        "\n",
        "    def __init__(self, phase='train', transform=None):\n",
        "\n",
        "        # split the predefined training data\n",
        "        if 'train' == phase:\n",
        "\n",
        "            self.data = train_data[train_indices]\n",
        "            self.labels = train_label[train_indices]\n",
        "\n",
        "        elif 'valid' == phase:\n",
        "\n",
        "            self.data = train_data[valid_indices]\n",
        "            self.labels = train_label[valid_indices]\n",
        "\n",
        "        elif 'test' == phase:\n",
        "\n",
        "            self.data = test_data\n",
        "            self.labels = test_label\n",
        "\n",
        "        else:\n",
        "            assert True, 'wrong phase'\n",
        "\n",
        "\n",
        "        self.transform = transform\n",
        "\n",
        "        self.label_names = ['T-shirt/top', 'Trouser', 'Pullover', 'Dress', 'Coat']\n",
        "\n",
        "    def __len__(self):\n",
        "        return len(self.data)\n",
        "\n",
        "    def __getitem__(self, index):\n",
        "\n",
        "        # get image and label according to the index\n",
        "        img, label = self.data[index], self.labels[index]\n",
        "\n",
        "        # doing this so that it is consistent with all other datasets\n",
        "        # to return a PIL Image\n",
        "        img = Image.fromarray(img, mode='L')\n",
        "\n",
        "        if self.transform is not None:\n",
        "            img = self.transform(img)\n",
        "\n",
        "        return img, label\n"
      ]
    },
    {
      "cell_type": "markdown",
      "metadata": {
        "id": "9OgnyJzqdfF2"
      },
      "source": [
        "### Part 1.2. Dataset checking\n",
        "First, randomly show some images in training, validation and testing data and check if the images have correct labels.<br>\n",
        "Secondly, check the number of images for each class, to make sure the dataset created correctly."
      ]
    },
    {
      "cell_type": "code",
      "execution_count": 6,
      "metadata": {
        "scrolled": false,
        "colab": {
          "base_uri": "https://localhost:8080/",
          "height": 515
        },
        "id": "csoiiKhLdfF3",
        "outputId": "92368980-b9a6-4ffc-e66c-d24a4e79e35a"
      },
      "outputs": [
        {
          "output_type": "display_data",
          "data": {
            "text/plain": [
              "<Figure size 1600x800 with 5 Axes>"
            ],
            "image/png": "[encoded data removed]"
          },
          "metadata": {}
        },
        {
          "output_type": "stream",
          "name": "stdout",
          "text": [
            "total number of training set: 25000\n"
          ]
        },
        {
          "output_type": "error",
          "ename": "AttributeError",
          "evalue": "'FashionMnist' object has no attribute 'label'",
          "traceback": [
            "\u001b[0;31m---------------------------------------------------------------------------\u001b[0m",
            "\u001b[0;31mAttributeError\u001b[0m                            Traceback (most recent call last)",
            "\u001b[0;32m<ipython-input-6-1b0f8b0b8c8d>\u001b[0m in \u001b[0;36m<cell line: 25>\u001b[0;34m()\u001b[0m\n\u001b[1;32m     24\u001b[0m \u001b[0mprint\u001b[0m\u001b[0;34m(\u001b[0m\u001b[0;34m'total number of training set: {}'\u001b[0m\u001b[0;34m.\u001b[0m\u001b[0mformat\u001b[0m\u001b[0;34m(\u001b[0m\u001b[0mlen\u001b[0m\u001b[0;34m(\u001b[0m\u001b[0mtrain_set\u001b[0m\u001b[0;34m)\u001b[0m\u001b[0;34m)\u001b[0m\u001b[0;34m)\u001b[0m\u001b[0;34m\u001b[0m\u001b[0;34m\u001b[0m\u001b[0m\n\u001b[1;32m     25\u001b[0m \u001b[0;32mfor\u001b[0m \u001b[0mi\u001b[0m \u001b[0;32min\u001b[0m \u001b[0mrange\u001b[0m\u001b[0;34m(\u001b[0m\u001b[0;36m5\u001b[0m\u001b[0;34m)\u001b[0m\u001b[0;34m:\u001b[0m\u001b[0;34m\u001b[0m\u001b[0;34m\u001b[0m\u001b[0m\n\u001b[0;32m---> 26\u001b[0;31m     \u001b[0mprint\u001b[0m\u001b[0;34m(\u001b[0m\u001b[0;34m'numer of images for class {}: {}'\u001b[0m\u001b[0;34m.\u001b[0m\u001b[0mformat\u001b[0m\u001b[0;34m(\u001b[0m\u001b[0mtrain_set\u001b[0m\u001b[0;34m.\u001b[0m\u001b[0mlabel_names\u001b[0m\u001b[0;34m[\u001b[0m\u001b[0mi\u001b[0m\u001b[0;34m]\u001b[0m\u001b[0;34m,\u001b[0m \u001b[0mnp\u001b[0m\u001b[0;34m.\u001b[0m\u001b[0msum\u001b[0m\u001b[0;34m(\u001b[0m\u001b[0mtrain_set\u001b[0m\u001b[0;34m.\u001b[0m\u001b[0mlabel\u001b[0m\u001b[0;34m==\u001b[0m\u001b[0mi\u001b[0m\u001b[0;34m)\u001b[0m\u001b[0;34m)\u001b[0m\u001b[0;34m)\u001b[0m\u001b[0;34m\u001b[0m\u001b[0;34m\u001b[0m\u001b[0m\n\u001b[0m",
            "\u001b[0;31mAttributeError\u001b[0m: 'FashionMnist' object has no attribute 'label'"
          ]
        }
      ],
      "source": [
        "# checking training set\n",
        "# randomly show some samples and their labels\n",
        "# create a FashionMnist dataset for training, set transform to None\n",
        "train_set = FashionMnist(phase='train', transform=None)\n",
        "\n",
        "num_to_show = 5\n",
        "idx = np.random.choice(range(len(train_set)), num_to_show, replace=False) # randomly pick 5 pictures to show\n",
        "\n",
        "fig = plt.figure(figsize=(16, 8))\n",
        "\n",
        "for i in range(len(idx)):\n",
        "    image, label = train_set[idx[i]]\n",
        "    label_name = train_set.label_names[label]\n",
        "\n",
        "    ax = plt.subplot(1, num_to_show, i + 1)\n",
        "    plt.tight_layout()\n",
        "    ax.set_title('class #{}'.format(label_name))\n",
        "    ax.axis('off')\n",
        "    plt.imshow(np.asarray(image))\n",
        "\n",
        "plt.show()\n",
        "\n",
        "# print number of images for each class\n",
        "print('total number of training set: {}'.format(len(train_set)))\n",
        "for i in range(5):\n",
        "    print('numer of images for class {}: {}'.format(train_set.label_names[i], np.sum(train_set.label==i)))"
      ]
    },
    {
      "cell_type": "code",
      "execution_count": 7,
      "metadata": {
        "colab": {
          "base_uri": "https://localhost:8080/",
          "height": 441
        },
        "id": "UhISuhU-dfF3",
        "outputId": "5af55449-a00a-469d-dbbe-fe021976d566"
      },
      "outputs": [
        {
          "output_type": "display_data",
          "data": {
            "text/plain": [
              "<Figure size 1600x800 with 5 Axes>"
            ],
            "image/png": "[encoded data removed]"
          },
          "metadata": {}
        },
        {
          "output_type": "stream",
          "name": "stdout",
          "text": [
            "total number of validation set: 5000\n",
            "number of images for class T-shirt/top: 1000\n",
            "number of images for class Trouser: 1000\n",
            "number of images for class Pullover: 1000\n",
            "number of images for class Dress: 1000\n",
            "number of images for class Coat: 1000\n"
          ]
        }
      ],
      "source": [
        "# checking validation data\n",
        "\n",
        "valid_set = FashionMnist(phase='valid', transform=None)\n",
        "\n",
        "num_to_show = 5\n",
        "idx = np.random.choice(range(len(valid_set)), num_to_show, replace=False)  # randomly pick 5 pictures to show\n",
        "\n",
        "fig = plt.figure(figsize=(16, 8))\n",
        "\n",
        "for i in range(len(idx)):\n",
        "    image, label = valid_set[idx[i]]\n",
        "    label_name = valid_set.label_names[label]\n",
        "\n",
        "    ax = plt.subplot(1, num_to_show, i + 1)\n",
        "    plt.tight_layout()\n",
        "    ax.set_title('class #{}'.format(label_name))\n",
        "    ax.axis('off')\n",
        "    plt.imshow(np.asarray(image))\n",
        "\n",
        "plt.show()\n",
        "\n",
        "print('total number of validation set: {}'.format(len(valid_set)))\n",
        "for i in range(5):\n",
        "    print('number of images for class {}: {}'.format(valid_set.label_names[i], np.sum(valid_set.labels == i)))\n"
      ]
    },
    {
      "cell_type": "code",
      "execution_count": 8,
      "metadata": {
        "colab": {
          "base_uri": "https://localhost:8080/",
          "height": 441
        },
        "id": "8HAVL-lgdfF4",
        "outputId": "39ef561a-9681-4f05-8e13-f72f235e4615"
      },
      "outputs": [
        {
          "output_type": "display_data",
          "data": {
            "text/plain": [
              "<Figure size 1600x800 with 5 Axes>"
            ],
            "image/png": "[encoded data removed]"
          },
          "metadata": {}
        },
        {
          "output_type": "stream",
          "name": "stdout",
          "text": [
            "total number of test set: 5000\n",
            "number of images for class T-shirt/top: 1000\n",
            "number of images for class Trouser: 1000\n",
            "number of images for class Pullover: 1000\n",
            "number of images for class Dress: 1000\n",
            "number of images for class Coat: 1000\n"
          ]
        }
      ],
      "source": [
        "# TODO: checking testing data (1 points)\n",
        "\n",
        "\n",
        "test_set = FashionMnist(phase='test', transform=None)\n",
        "\n",
        "num_to_show = 5\n",
        "idx = np.random.choice(range(len(test_set)), num_to_show, replace=False)  # randomly pick 5 pictures to show\n",
        "\n",
        "fig = plt.figure(figsize=(16, 8))\n",
        "\n",
        "for i in range(len(idx)):\n",
        "    image, label = test_set[idx[i]]\n",
        "    label_name = test_set.label_names[label]\n",
        "\n",
        "    ax = plt.subplot(1, num_to_show, i + 1)\n",
        "    plt.tight_layout()\n",
        "    ax.set_title('class #{}'.format(label_name))\n",
        "    ax.axis('off')\n",
        "    plt.imshow(np.asarray(image))\n",
        "\n",
        "plt.show()\n",
        "\n",
        "print('total number of test set: {}'.format(len(test_set)))\n",
        "for i in range(5):\n",
        "    print('number of images for class {}: {}'.format(test_set.label_names[i], np.sum(test_set.labels == i)))"
      ]
    },
    {
      "cell_type": "markdown",
      "metadata": {
        "id": "f7mbHhP9dfF4"
      },
      "source": [
        "### Part 1.3. Iterating through the dataset with batches\n",
        "Here, we add more features with the help of [DataLoader](https://pytorch.org/tutorials/beginner/data_loading_tutorial.html#iterating-through-the-dataset):\n",
        "* Batching the data\n",
        "* Shuffling the data\n",
        "* Load the data in parallel using multiprocessing workers.\n",
        "\n",
        "`torch.utils.data.DataLoader` is an iterator which provides all these features. Parameters used below should be clear. One parameter of interest is collate_fn. You can specify how exactly the samples need to be batched using collate_fn. However, default collate should work fine for most use cases.\n",
        "\n",
        "The `DataLoader` takes as input an instance of `FashionMnist` we defined in Part 1.1. Since images in the dataset currently are all in PIL format, we have to convert them to torch.Tensor by using a transform. Actually, `transform` is often used for data augmentation, further illustrations of `transform` can be found in [https://pytorch.org/tutorials/beginner/data_loading_tutorial.html#writing-custom-datasets-dataloaders-and-transforms](https://pytorch.org/tutorials/beginner/data_loading_tutorial.html#writing-custom-datasets-dataloaders-and-transforms)."
      ]
    },
    {
      "cell_type": "code",
      "execution_count": null,
      "metadata": {
        "id": "Gx4YVOmLdfF5"
      },
      "outputs": [],
      "source": [
        "# Set batch_size to 64, shuffling the training set. Number of workers here is set to 0.\n",
        "data_transform = transforms.Compose([transforms.ToTensor()])\n",
        "\n",
        "train_set = FashionMnist(phase='train', transform=data_transform)\n",
        "train_loader = DataLoader(train_set, batch_size=64, shuffle=True, num_workers=0)\n",
        "\n",
        "# create test_loader and valid_loader, both with no shuffling\n",
        "\n",
        "\n",
        "test_set = FashionMnist(phase='test', transform=data_transform)\n",
        "test_loader = DataLoader(test_set, batch_size=64, shuffle=False, num_workers=0)\n",
        "\n",
        "valid_set = FashionMnist(phase='valid', transform=data_transform)\n",
        "valid_loader = DataLoader(valid_set, batch_size=64, shuffle=False, num_workers=0)"
      ]
    },
    {
      "cell_type": "markdown",
      "metadata": {
        "id": "UKA9D1NHdfF5"
      },
      "source": [
        "## Part 2. Build a CNN\n",
        "Structure of the CNN (**Conv**: convolutional layer, **BN**: Batch Normalization layer, **Max_pool**: max pooling layer, **FC**: fully connected layer, batch_size=64):\n",
        "<!--![model.png](attachment:model.png)-->\n",
        "<img src=http://yty.kapsi.fi/DLcourse/ass3/CNN.png width=\"800\">"
      ]
    },
    {
      "cell_type": "markdown",
      "metadata": {
        "id": "l-V_688SdfF5"
      },
      "source": [
        "To define your own Network, following the rule of thumb:\n",
        "1. Define the layers in `__init__`.\n",
        "2. Do the forward calculation in `forward`."
      ]
    },
    {
      "cell_type": "code",
      "execution_count": null,
      "metadata": {
        "id": "3d8bf684dfF5"
      },
      "outputs": [],
      "source": [
        "import torch\n",
        "import torch.nn as nn\n",
        "\n",
        "class Network(nn.Module):\n",
        "    def __init__(self, num_classes):\n",
        "        super().__init__()\n",
        "        self.conv1 = nn.Conv2d(1, 32, kernel_size=3)\n",
        "        self.bn1 = nn.BatchNorm2d(32)\n",
        "        self.relu1 = nn.ReLU()\n",
        "        self.pool = nn.MaxPool2d(kernel_size=2, stride=2)\n",
        "\n",
        "\n",
        "        self.conv2 = nn.Conv2d(32, 64, kernel_size=3)\n",
        "        self.bn2 = nn.BatchNorm2d(64)\n",
        "        self.relu2 = nn.ReLU()\n",
        "        self.pool2 = nn.MaxPool2d(kernel_size=2, stride=2)\n",
        "\n",
        "        self.fc1 = nn.Linear(64 * 5 * 5, 128)\n",
        "        self.relu3 = nn.ReLU()\n",
        "\n",
        "        self.fc2 = nn.Linear(128, num_classes)\n",
        "\n",
        "\n",
        "    def forward(self, x):\n",
        "        x = self.conv1(x)\n",
        "        x = self.bn1(x)\n",
        "        x = self.relu1(x)\n",
        "        x = self.pool(x)\n",
        "\n",
        "\n",
        "        x = self.conv2(x)\n",
        "        x = self.bn2(x)\n",
        "        x = self.relu2(x)\n",
        "        x = self.pool2(x)\n",
        "\n",
        "        x = x.view(-1, 64 * 5 * 5)\n",
        "\n",
        "        x = self.fc1(x)\n",
        "        x = self.relu3(x)\n",
        "\n",
        "        x = self.fc2(x)\n",
        "\n",
        "        return x\n"
      ]
    },
    {
      "cell_type": "markdown",
      "metadata": {
        "id": "IzSXp0QudfF6"
      },
      "source": [
        "## Part 3. Train and test CNN model\n",
        "### Part 3.1. Create functions for train and evaluation\n",
        "* Instantiate a network.\n",
        "* When training, create an optimizer to take care of network's parameters, calculate the loss and accuracy.\n",
        "* When evaluation, only need to claculate the accuracy."
      ]
    },
    {
      "cell_type": "code",
      "execution_count": null,
      "metadata": {
        "id": "Uo89gMBXdfF6"
      },
      "outputs": [],
      "source": [
        "# instantiate a network\n",
        "net = Network(num_classes=5)\n",
        "\n",
        "# evaluation function\n",
        "def eval(net, data_loader):\n",
        "    use_cuda = torch.cuda.is_available()\n",
        "    if use_cuda:\n",
        "        net = net.cuda()\n",
        "    net.eval()\n",
        "    correct = 0.0\n",
        "    num_images = 0.0\n",
        "    for i_batch, (images, labels) in enumerate(data_loader):\n",
        "        if use_cuda:\n",
        "            images = images.cuda()\n",
        "            labels = labels.cuda()\n",
        "        outs = net(images)\n",
        "#         _, preds = outs.max(1)\n",
        "        preds = outs.argmax(dim=1)\n",
        "        correct += preds.eq(labels).sum()\n",
        "        num_images += len(labels)\n",
        "\n",
        "    acc = correct / num_images\n",
        "    return acc\n",
        "\n",
        "# training function\n",
        "def train(net, train_loader, valid_loader):\n",
        "    loss_function = torch.nn.CrossEntropyLoss()\n",
        "\n",
        "    optimizer = optim.SGD(net.parameters(), lr=0.01, momentum=0.9, weight_decay=0)\n",
        "\n",
        "    use_cuda = torch.cuda.is_available()\n",
        "    if use_cuda:\n",
        "        net = net.cuda()\n",
        "\n",
        "    epoches = 10\n",
        "    for epoch in range(epoches):\n",
        "        net.train()\n",
        "        correct = 0.0 # used to accumulate number of correctly recognized images\n",
        "        num_images = 0.0 # used to accumulate number of images\n",
        "        for i_batch, (images, labels) in enumerate(train_loader):\n",
        "            if use_cuda:\n",
        "                images = images.cuda()\n",
        "                labels = labels.cuda()\n",
        "\n",
        "            outs = net(images)\n",
        "            loss = loss_function(outs, labels)\n",
        "\n",
        "\n",
        "            optimizer.zero_grad()\n",
        "            loss.backward()\n",
        "            optimizer.step()\n",
        "\n",
        "            preds = outs.argmax(dim=1)\n",
        "            correct += preds.eq(labels).sum().item()\n",
        "            num_images += len(labels)\n",
        "\n",
        "        acc = correct / num_images\n",
        "        acc_eval = eval(net, valid_loader)\n",
        "        print('epoch: %d, lr: %f, accuracy: %f, loss: %f, valid accuracy: %f' % (epoch, optimizer.param_groups[0]['lr'], acc, loss.item(), acc_eval))\n",
        "\n",
        "    return net"
      ]
    },
    {
      "cell_type": "markdown",
      "metadata": {
        "id": "OEeIAgiodfF6"
      },
      "source": [
        "### Part 3.2. Train and test the network"
      ]
    },
    {
      "cell_type": "code",
      "source": [
        "print('Please wait patiently, it may take some seconds...')\n",
        "\n",
        "\n",
        "net = train(net, train_loader, valid_loader)\n",
        "\n",
        "\n",
        "\n",
        "acc_test = eval(net, test_loader)\n",
        "\n",
        "print('accuracy on testing data: %f' % acc_test)"
      ],
      "metadata": {
        "colab": {
          "base_uri": "https://localhost:8080/"
        },
        "id": "Ls75KCCUm0cD",
        "outputId": "4607da14-4af2-4e5a-cf31-672b6bf5de0d"
      },
      "execution_count": null,
      "outputs": [
        {
          "output_type": "stream",
          "name": "stdout",
          "text": [
            "Please wait patiently, it may take some seconds...\n",
            "epoch: 0, lr: 0.010000, accuracy: 0.870600, loss: 0.199153, valid accuracy: 0.906800\n",
            "epoch: 1, lr: 0.010000, accuracy: 0.914880, loss: 0.202599, valid accuracy: 0.917800\n",
            "epoch: 2, lr: 0.010000, accuracy: 0.925040, loss: 0.166805, valid accuracy: 0.920400\n",
            "epoch: 3, lr: 0.010000, accuracy: 0.934720, loss: 0.110407, valid accuracy: 0.923600\n",
            "epoch: 4, lr: 0.010000, accuracy: 0.944960, loss: 0.114993, valid accuracy: 0.922200\n",
            "epoch: 5, lr: 0.010000, accuracy: 0.946800, loss: 0.046354, valid accuracy: 0.914400\n",
            "epoch: 6, lr: 0.010000, accuracy: 0.949360, loss: 0.257545, valid accuracy: 0.931400\n",
            "epoch: 7, lr: 0.010000, accuracy: 0.954960, loss: 0.087164, valid accuracy: 0.920200\n",
            "epoch: 8, lr: 0.010000, accuracy: 0.958560, loss: 0.134557, valid accuracy: 0.934400\n",
            "epoch: 9, lr: 0.010000, accuracy: 0.964640, loss: 0.031949, valid accuracy: 0.928000\n",
            "accuracy on testing data: 0.927400\n"
          ]
        }
      ]
    },
    {
      "cell_type": "markdown",
      "metadata": {
        "id": "PmGxynybdfF7"
      },
      "source": [
        "### Part 3.3. Modification for training\n"
      ]
    },
    {
      "cell_type": "code",
      "execution_count": null,
      "metadata": {
        "colab": {
          "base_uri": "https://localhost:8080/"
        },
        "id": "LzElBzuidfF7",
        "outputId": "40e46012-f5fe-4ff2-972a-fd6ac3c77d6a"
      },
      "outputs": [
        {
          "output_type": "stream",
          "name": "stdout",
          "text": [
            "Please wait patiently, it may take some seconds...\n",
            "epoch: 0, lr: 0.010000, accuracy: 0.968400, loss: 0.082014, valid accuracy: 0.918000\n",
            "epoch: 1, lr: 0.010000, accuracy: 0.972520, loss: 0.096231, valid accuracy: 0.924600\n",
            "epoch: 2, lr: 0.010000, accuracy: 0.972520, loss: 0.030760, valid accuracy: 0.916600\n",
            "epoch: 3, lr: 0.010000, accuracy: 0.976160, loss: 0.113893, valid accuracy: 0.931200\n",
            "epoch: 4, lr: 0.010000, accuracy: 0.976720, loss: 0.158516, valid accuracy: 0.924800\n",
            "epoch: 5, lr: 0.010000, accuracy: 0.977200, loss: 0.131079, valid accuracy: 0.905000\n",
            "epoch: 6, lr: 0.010000, accuracy: 0.979320, loss: 0.050227, valid accuracy: 0.928600\n",
            "epoch: 7, lr: 0.010000, accuracy: 0.980440, loss: 0.080043, valid accuracy: 0.937600\n",
            "epoch: 8, lr: 0.010000, accuracy: 0.981680, loss: 0.041586, valid accuracy: 0.934200\n",
            "epoch: 9, lr: 0.010000, accuracy: 0.983440, loss: 0.013282, valid accuracy: 0.924800\n",
            "accuracy on testing data: 0.922600\n"
          ]
        }
      ],
      "source": [
        "import torch\n",
        "import torch.nn as nn\n",
        "\n",
        "class Network(nn.Module):\n",
        "    def __init__(self, num_classes):\n",
        "        super().__init__()\n",
        "        self.conv1 = nn.Conv2d(1, 32, kernel_size=3)\n",
        "        self.bn1 = nn.BatchNorm2d(32)\n",
        "        self.relu1 = nn.ReLU()\n",
        "        self.pool = nn.MaxPool2d(kernel_size=2, stride=2)\n",
        "\n",
        "\n",
        "        self.conv2 = nn.Conv2d(32, 64, kernel_size=3)\n",
        "        self.bn2 = nn.BatchNorm2d(64)\n",
        "        self.relu2 = nn.ReLU()\n",
        "        self.pool2 = nn.MaxPool2d(kernel_size=2, stride=2)\n",
        "\n",
        "        #new conv layer\n",
        "        self.conv3 = nn.Conv2d(64, 128, kernel_size=3)\n",
        "        self.bn3 = nn.BatchNorm2d(128)\n",
        "        self.relu4 = nn.ReLU()\n",
        "        self.pool3 = nn.MaxPool2d(kernel_size=2, stride=2)\n",
        "\n",
        "        self.dropout = nn.Dropout2d(0.25)\n",
        "\n",
        "        self.fc1 = nn.Linear(64 * 5 * 5, 128)\n",
        "        self.relu3 = nn.ReLU()\n",
        "\n",
        "        self.fc2 = nn.Linear(128, num_classes)\n",
        "\n",
        "        # ...\n",
        "\n",
        "    def forward(self, x):\n",
        "        x = self.conv1(x)\n",
        "        x = self.bn1(x)\n",
        "        x = self.relu1(x)\n",
        "        x = self.pool(x)\n",
        "\n",
        "        x = self.conv2(x)\n",
        "        x = self.bn2(x)\n",
        "        x = self.relu2(x)\n",
        "        x = self.pool2(x)\n",
        "        x = self.conv3(x)   #modified the forward function accordingly\n",
        "        x = self.bn3(x)\n",
        "        x = self.relu4(x)\n",
        "        x = self.pool3(x)\n",
        "\n",
        "        x = self.dropout(x)\n",
        "\n",
        "        x = x.view(-1, 64 * 5 * 5)\n",
        "\n",
        "        x = self.fc1(x)\n",
        "        x = self.relu3(x)\n",
        "\n",
        "        x = self.fc2(x)\n",
        "\n",
        "        return x\n",
        "\n",
        "\n",
        "\n",
        "\n",
        "\n",
        "\n",
        "\n",
        "\n",
        "\n",
        "\n",
        "\n",
        "\n",
        "\n",
        "\n",
        "\n",
        "def train(net, train_loader, valid_loader):\n",
        "    loss_function = torch.nn.CrossEntropyLoss()\n",
        "\n",
        "    optimizer = optim.SGD(net.parameters(), lr=0.01, momentum=0.9, weight_decay=0.001) #weight decay 0.001\n",
        "\n",
        "    use_cuda = torch.cuda.is_available()\n",
        "    if use_cuda:\n",
        "        net = net.cuda()\n",
        "\n",
        "    epoches = 10   #15 epochs\n",
        "    for epoch in range(epoches):\n",
        "        net.train()\n",
        "        correct = 0.0 # used to accumulate number of correctly recognized images\n",
        "        num_images = 0.0 # used to accumulate number of images\n",
        "        for i_batch, (images, labels) in enumerate(train_loader):\n",
        "            if use_cuda:\n",
        "                images = images.cuda()\n",
        "                labels = labels.cuda()\n",
        "\n",
        "            outs = net(images)\n",
        "            loss = loss_function(outs, labels)\n",
        "\n",
        "\n",
        "            optimizer.zero_grad()\n",
        "            loss.backward()\n",
        "            optimizer.step()\n",
        "\n",
        "            preds = outs.argmax(dim=1)\n",
        "            correct += preds.eq(labels).sum().item()\n",
        "            num_images += len(labels)\n",
        "\n",
        "        acc = correct / num_images\n",
        "        acc_eval = eval(net, valid_loader)\n",
        "        print('epoch: %d, lr: %f, accuracy: %f, loss: %f, valid accuracy: %f' % (epoch, optimizer.param_groups[0]['lr'], acc, loss.item(), acc_eval))\n",
        "\n",
        "    return net\n",
        "\n",
        "\n",
        "\n",
        "\n",
        "\n",
        "print('Please wait patiently, it may take some seconds...')\n",
        "\n",
        "\n",
        "net = train(net, train_loader, valid_loader)\n",
        "\n",
        "\n",
        "\n",
        "acc_test = eval(net, test_loader)\n",
        "\n",
        "print('accuracy on testing data: %f' % acc_test)\n",
        "\n",
        "\n"
      ]
    },
    {
      "cell_type": "code",
      "source": [],
      "metadata": {
        "id": "99UbdX3Fy_OV"
      },
      "execution_count": null,
      "outputs": []
    }
  ],
  "metadata": {
    "kernelspec": {
      "display_name": "Python 3",
      "language": "python",
      "name": "python3"
    },
    "language_info": {
      "codemirror_mode": {
        "name": "ipython",
        "version": 3
      },
      "file_extension": ".py",
      "mimetype": "text/x-python",
      "name": "python",
      "nbconvert_exporter": "python",
      "pygments_lexer": "ipython3",
      "version": "3.8.8"
    },
    "pycharm": {
      "stem_cell": {
        "cell_type": "raw",
        "metadata": {
          "collapsed": false
        },
        "source": []
      }
    },
    "colab": {
      "provenance": []
    }
  },
  "nbformat": 4,
  "nbformat_minor": 0
}